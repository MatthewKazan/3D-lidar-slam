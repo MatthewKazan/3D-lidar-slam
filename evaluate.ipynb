{
 "cells": [
  {
   "cell_type": "code",
   "id": "initial_id",
   "metadata": {
    "collapsed": true,
    "ExecuteTime": {
     "end_time": "2024-12-11T05:27:48.388684Z",
     "start_time": "2024-12-11T05:27:39.954292Z"
    }
   },
   "source": [
    "import numpy as np\n",
    "import open3d as o3d\n",
    "\n",
    "\n",
    "# Load point clouds\n",
    "pc_app = o3d.io.read_point_cloud(\"app.ply\")\n",
    "pc_gt = o3d.io.read_point_cloud(\"ground_truth.ply\")\n",
    "pc_app_voxels = pc_app.voxel_down_sample(voxel_size=0.05)\n",
    "pc_gt_voxels = pc_gt.voxel_down_sample(voxel_size=0.05)\n",
    "print(len(pc_app_voxels.points))\n",
    "\n",
    "# Estimate normals\n",
    "pc_app_voxels.estimate_normals()\n",
    "pc_gt_voxels.estimate_normals()\n",
    "\n",
    "# Compute FPFH features\n",
    "fpfh_app = o3d.pipelines.registration.compute_fpfh_feature(\n",
    "    pc_app_voxels, o3d.geometry.KDTreeSearchParamHybrid(radius=0.05, max_nn=100))\n",
    "fpfh_gt = o3d.pipelines.registration.compute_fpfh_feature(\n",
    "    pc_gt_voxels, o3d.geometry.KDTreeSearchParamHybrid(radius=0.05, max_nn=100))\n",
    "\n",
    "\n",
    "o3d.visualization.draw_geometries([pc_app])\n"
   ],
   "outputs": [
    {
     "name": "stdout",
     "output_type": "stream",
     "text": [
      "36897\n",
      "\u001B[1;33m[Open3D WARNING] GLFW Error: Cocoa: Failed to find service port for display\u001B[0;m\n",
      "\u001B[1;33m[Open3D WARNING] GLFW Error: Cocoa: Failed to find service port for display\u001B[0;m\n"
     ]
    }
   ],
   "execution_count": 9
  },
  {
   "metadata": {
    "ExecuteTime": {
     "end_time": "2024-12-11T05:28:05.466381Z",
     "start_time": "2024-12-11T05:27:50.623410Z"
    }
   },
   "cell_type": "code",
   "source": [
    "\n",
    "# Perform global registration\n",
    "result = o3d.pipelines.registration.registration_ransac_based_on_feature_matching(\n",
    "    source=pc_app_voxels,\n",
    "    target=pc_gt_voxels,\n",
    "    source_feature=fpfh_app,\n",
    "    target_feature=fpfh_gt,\n",
    "    mutual_filter=False,\n",
    "    max_correspondence_distance=1,\n",
    "    estimation_method=o3d.pipelines.registration.TransformationEstimationPointToPoint(False),\n",
    "    ransac_n=3,\n",
    "    checkers=[o3d.pipelines.registration.CorrespondenceCheckerBasedOnEdgeLength(0.9),\n",
    "              o3d.pipelines.registration.CorrespondenceCheckerBasedOnDistance(0.1)],\n",
    "    criteria=o3d.pipelines.registration.RANSACConvergenceCriteria(4000000, 500)\n",
    ")\n",
    "\n",
    "# pc_app.transform(result.transformation)\n",
    "refined_result = o3d.pipelines.registration.registration_icp(\n",
    "    pc_app_voxels, pc_gt_voxels, 0.3,\n",
    "    result.transformation,\n",
    "    o3d.pipelines.registration.TransformationEstimationPointToPoint())\n",
    "print(refined_result.transformation)"
   ],
   "id": "52a85c961300f629",
   "outputs": [
    {
     "name": "stdout",
     "output_type": "stream",
     "text": [
      "[[ 0.68164623 -0.39423045 -0.61639336  0.56370984]\n",
      " [-0.64722107  0.06804769 -0.75925911 -0.13980757]\n",
      " [ 0.3412672   0.91648888 -0.2087698  -0.10821887]\n",
      " [ 0.          0.          0.          1.        ]]\n"
     ]
    }
   ],
   "execution_count": 10
  },
  {
   "metadata": {
    "ExecuteTime": {
     "end_time": "2024-12-11T05:28:08.871053Z",
     "start_time": "2024-12-11T05:28:07.556134Z"
    }
   },
   "cell_type": "code",
   "source": [
    "\n",
    "print(result.transformation)\n",
    "trans_pc_app = pc_app.__copy__()\n",
    "trans_pc_app.transform(refined_result.transformation)\n",
    "#\n",
    "# Compute Hausdorff distance\n",
    "distances = trans_pc_app.compute_point_cloud_distance(pc_gt)\n",
    "hausdorff_distance = max(distances)\n",
    "mean_distance = np.mean(distances)\n",
    "\n",
    "print(f\"Hausdorff Distance: {hausdorff_distance}\")\n",
    "print(f\"Mean Distance: {mean_distance}\") # On average, the app is about 3% off from the ground truth\n",
    "print(f\"MSE: {np.mean(np.asarray(distances) ** 2)}\")"
   ],
   "id": "50c849b921232cc3",
   "outputs": [
    {
     "name": "stdout",
     "output_type": "stream",
     "text": [
      "[[ 0.68012803 -0.412001   -0.60636709  0.55820123]\n",
      " [-0.65888651  0.01908023 -0.75200034 -0.01063642]\n",
      " [ 0.32139451  0.9109836  -0.2584849  -0.09458848]\n",
      " [ 0.          0.          0.          1.        ]]\n",
      "Hausdorff Distance: 0.5107116958138777\n",
      "Mean Distance: 0.08967352558618975\n",
      "MSE: 0.016314065162083828\n"
     ]
    }
   ],
   "execution_count": 11
  },
  {
   "metadata": {
    "ExecuteTime": {
     "end_time": "2024-12-11T05:28:55.886774Z",
     "start_time": "2024-12-11T05:28:13.873030Z"
    }
   },
   "cell_type": "code",
   "source": [
    "# Visualize\n",
    "o3d.visualization.draw_geometries([trans_pc_app, pc_gt])"
   ],
   "id": "1184908848c7b25a",
   "outputs": [
    {
     "name": "stdout",
     "output_type": "stream",
     "text": [
      "\u001B[1;33m[Open3D WARNING] GLFW Error: Cocoa: Failed to find service port for display\u001B[0;m\n",
      "\u001B[1;33m[Open3D WARNING] GLFW Error: Cocoa: Failed to find service port for display\u001B[0;m\n"
     ]
    }
   ],
   "execution_count": 12
  },
  {
   "metadata": {
    "ExecuteTime": {
     "end_time": "2024-12-11T05:13:24.696766Z",
     "start_time": "2024-12-11T05:13:20.125494Z"
    }
   },
   "cell_type": "code",
   "source": [
    "from scipy.spatial import cKDTree\n",
    "\n",
    "\n",
    "def uniform_sample(point_cloud, num_samples):\n",
    "    \"\"\"\n",
    "    Uniformly sample a fixed number of points from a point cloud.\n",
    "    \"\"\"\n",
    "    points = np.asarray(point_cloud.points)\n",
    "    if len(points) < num_samples:\n",
    "        raise ValueError(\"Point cloud has fewer points than the number of samples requested.\")\n",
    "    indices = np.random.choice(len(points), num_samples, replace=False)\n",
    "    return points[indices]\n",
    "\n",
    "def compute_mse_uniform_sampling(source_cloud, target_cloud, num_samples):\n",
    "    \"\"\"\n",
    "    Compute MSE between two point clouds using uniform sampling.\n",
    "    \"\"\"\n",
    "    # Uniformly sample points from both clouds\n",
    "    source_samples = uniform_sample(source_cloud, num_samples)\n",
    "    target_samples = uniform_sample(target_cloud, num_samples)\n",
    "\n",
    "    # Use KDTree for efficient nearest-neighbor search\n",
    "    target_tree = cKDTree(target_samples)\n",
    "    distances, _ = target_tree.query(source_samples)\n",
    "\n",
    "    # Compute MSE as the mean of squared distances\n",
    "    mse = np.mean(distances ** 2)\n",
    "    return mse\n",
    "\n",
    "# Compute MSE with uniform sampling\n",
    "num_samples = min(len(trans_pc_app.points), len(pc_gt.points)) - 1000  # Adjust the number of samples as needed\n",
    "try:\n",
    "    mse = compute_mse_uniform_sampling(trans_pc_app, pc_gt, num_samples)\n",
    "    print(f\"Mean Squared Error (MSE) with Uniform Sampling: {mse}\")\n",
    "except ValueError as e:\n",
    "    print(f\"Error: {e}\")"
   ],
   "id": "d3665fa072f156b7",
   "outputs": [
    {
     "name": "stdout",
     "output_type": "stream",
     "text": [
      "Mean Squared Error (MSE) with Uniform Sampling: 0.012234857119167249\n"
     ]
    }
   ],
   "execution_count": 6
  },
  {
   "metadata": {
    "ExecuteTime": {
     "end_time": "2024-12-11T05:13:25.138177Z",
     "start_time": "2024-12-11T05:13:25.136072Z"
    }
   },
   "cell_type": "code",
   "source": "print(len(pc_gt.points))",
   "id": "89dbb52ae6cad48b",
   "outputs": [
    {
     "name": "stdout",
     "output_type": "stream",
     "text": [
      "599653\n"
     ]
    }
   ],
   "execution_count": 7
  },
  {
   "metadata": {
    "ExecuteTime": {
     "end_time": "2024-12-11T05:13:25.147187Z",
     "start_time": "2024-12-11T05:13:25.145837Z"
    }
   },
   "cell_type": "code",
   "source": "",
   "id": "219d111f20727ae2",
   "outputs": [],
   "execution_count": null
  }
 ],
 "metadata": {
  "kernelspec": {
   "display_name": "Python 3",
   "language": "python",
   "name": "python3"
  },
  "language_info": {
   "codemirror_mode": {
    "name": "ipython",
    "version": 2
   },
   "file_extension": ".py",
   "mimetype": "text/x-python",
   "name": "python",
   "nbconvert_exporter": "python",
   "pygments_lexer": "ipython2",
   "version": "2.7.6"
  }
 },
 "nbformat": 4,
 "nbformat_minor": 5
}
